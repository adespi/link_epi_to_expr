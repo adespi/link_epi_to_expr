{
 "cells": [
  {
   "cell_type": "code",
   "execution_count": 2,
   "metadata": {},
   "outputs": [],
   "source": [
    "import glob\n",
    "import pandas as pd\n",
    "import matplotlib.pyplot as plt\n",
    "import numpy as np"
   ]
  },
  {
   "cell_type": "code",
   "execution_count": 8,
   "metadata": {},
   "outputs": [
    {
     "data": {
      "text/plain": [
       "632"
      ]
     },
     "execution_count": 8,
     "metadata": {},
     "output_type": "execute_result"
    }
   ],
   "source": [
    "#gene_info = pd.read_csv(\"gene_info_some_genes.txt\", sep='\\t',header=0)\n",
    "gene_info = pd.read_csv(\"gene_info_some_genes_32_Tissue-specific_regulatory_networks_FANTOM5-v1.txt\", sep='\\t',header=0)\n",
    "len(gene_info[\"Gene name\"])"
   ]
  },
  {
   "cell_type": "code",
   "execution_count": 72,
   "metadata": {},
   "outputs": [],
   "source": [
    "my_data = pd.read_csv(\"correlations/correlations_2_127864931_BIN1/BIN1.csv.gz\", sep=',',header=0,index_col=0)\n",
    "cell_line=[]\n",
    "for x in range(len(my_data.index)):\n",
    "    #my_data.index[x]=my_data.index[x]\n",
    "    cell_line.append(my_data.index[x].split(\"|\")[0])\n",
    "cell_line=sorted(set(cell_line))"
   ]
  },
  {
   "cell_type": "code",
   "execution_count": 50,
   "metadata": {},
   "outputs": [],
   "source": [
    "cell_line_signif=pd.DataFrame(np.zeros([len(cell_line)]),index=cell_line)\n",
    "cell_line_nbr=pd.DataFrame(np.zeros([len(cell_line)]),index=cell_line)\n",
    "for x in range(len(my_data.index)):\n",
    "    cell_line_nbr.iloc[cell_line.index(my_data.index[x].split(\"|\")[0])]+=1\n",
    "    cell_line_signif.iloc[cell_line.index(my_data.index[x].split(\"|\")[0])]+=np.sum(((my_data.iloc[x].abs())>sign_cutoff).values)\n",
    "\n",
    "nbr_signif_corr=pd.Panel(np.zeros([nbr_genes,nbr_genes]), index=gene_info[\"Gene name\"], columns=gene_info[\"Gene name\"], items, major_axis, minor_axis, dtype, copy)\n",
    "    "
   ]
  },
  {
   "cell_type": "code",
   "execution_count": 9,
   "metadata": {},
   "outputs": [
    {
     "name": "stdout",
     "output_type": "stream",
     "text": [
      "0\r",
      "1\r",
      "2\r",
      "3\r",
      "4\r",
      "5\r",
      "6\r",
      "7\r",
      "8\r",
      "9\r",
      "10\r",
      "11\r",
      "12\r",
      "13\r",
      "14\r",
      "15\r",
      "16\r",
      "17\r",
      "18\r",
      "19\r",
      "20\r",
      "21\r",
      "22\r",
      "23\r",
      "24\r",
      "25\r",
      "26\r",
      "27\r",
      "28\r",
      "29\r",
      "30\r",
      "31\r",
      "32\r",
      "33\r",
      "34\r",
      "35\r",
      "36\r",
      "37\r",
      "38\r",
      "39\r",
      "40\r",
      "41\r",
      "42\r",
      "43\r",
      "44\r",
      "45\r",
      "46\r",
      "47\r",
      "48\r",
      "49\r",
      "50\r",
      "51\r",
      "52\r",
      "53\r",
      "54\r",
      "55\r",
      "56\r",
      "57\r",
      "58\r",
      "59\r",
      "60\r",
      "61\r",
      "62\r",
      "63\r",
      "64\r",
      "65\r",
      "66\r",
      "67\r",
      "68\r",
      "69\r",
      "70\r",
      "71\r",
      "72\r",
      "73\r",
      "74\r",
      "75\r",
      "76\r",
      "77\r",
      "78\r",
      "79\r",
      "80\r",
      "81\r",
      "82\r",
      "83\r",
      "84\r",
      "85\r",
      "86\r",
      "87\r",
      "88\r",
      "89\r",
      "90\r",
      "91\r",
      "92\r",
      "93\r",
      "94\r",
      "95\r",
      "96\r",
      "97\r",
      "98\r",
      "99\r",
      "100\r",
      "101\r",
      "102\r",
      "103\r",
      "104\r",
      "105\r",
      "106\r",
      "107\r",
      "108\r",
      "109\r",
      "110\r",
      "111\r",
      "112\r",
      "113\r",
      "114\r",
      "115\r",
      "116\r",
      "117\r",
      "118\r",
      "119\r",
      "120\r",
      "121\r",
      "122\r",
      "123\r",
      "124\r",
      "125\r",
      "126\r",
      "127\r",
      "128\r",
      "129\r",
      "130\r",
      "131\r",
      "132\r",
      "133\r",
      "134\r",
      "135\r",
      "136\r",
      "137\r",
      "138\r",
      "139\r",
      "140\r",
      "141\r",
      "142\r",
      "143\r",
      "144\r",
      "145\r",
      "146\r",
      "147\r",
      "148\r",
      "149\r",
      "150\r",
      "151\r",
      "152\r",
      "153\r",
      "154\r",
      "155\r",
      "156\r",
      "157\r",
      "158\r",
      "159\r",
      "160\r",
      "161\r",
      "162\r",
      "163\r",
      "164\r",
      "165\r",
      "166\r",
      "167\r",
      "168\r",
      "169\r",
      "170\r",
      "171\r",
      "172\r",
      "173\r",
      "174\r",
      "175\r",
      "176\r",
      "177\r",
      "178\r",
      "179\r",
      "180\r",
      "181\r",
      "182\r",
      "183\r",
      "184\r",
      "185\r",
      "186\r",
      "187\r",
      "188\r",
      "189\r"
     ]
    },
    {
     "ename": "NameError",
     "evalue": "name 'j' is not defined",
     "output_type": "error",
     "traceback": [
      "\u001b[0;31m---------------------------------------------------------------------------\u001b[0m",
      "\u001b[0;31mNameError\u001b[0m                                 Traceback (most recent call last)",
      "\u001b[0;32m<ipython-input-9-e838a6c637f1>\u001b[0m in \u001b[0;36m<module>\u001b[0;34m\u001b[0m\n\u001b[1;32m     16\u001b[0m             \u001b[0;32mif\u001b[0m \u001b[0mlen\u001b[0m\u001b[0;34m(\u001b[0m\u001b[0msub_gene_file\u001b[0m\u001b[0;34m)\u001b[0m \u001b[0;34m==\u001b[0m\u001b[0;36m1\u001b[0m\u001b[0;34m:\u001b[0m\u001b[0;34m\u001b[0m\u001b[0;34m\u001b[0m\u001b[0m\n\u001b[1;32m     17\u001b[0m                 \u001b[0mmy_data\u001b[0m \u001b[0;34m=\u001b[0m \u001b[0mpd\u001b[0m\u001b[0;34m.\u001b[0m\u001b[0mread_csv\u001b[0m\u001b[0;34m(\u001b[0m\u001b[0msub_gene_file\u001b[0m\u001b[0;34m[\u001b[0m\u001b[0;36m0\u001b[0m\u001b[0;34m]\u001b[0m\u001b[0;34m,\u001b[0m \u001b[0msep\u001b[0m\u001b[0;34m=\u001b[0m\u001b[0;34m','\u001b[0m\u001b[0;34m,\u001b[0m\u001b[0mheader\u001b[0m\u001b[0;34m=\u001b[0m\u001b[0;36m0\u001b[0m\u001b[0;34m,\u001b[0m\u001b[0mindex_col\u001b[0m\u001b[0;34m=\u001b[0m\u001b[0;36m0\u001b[0m\u001b[0;34m)\u001b[0m\u001b[0;34m\u001b[0m\u001b[0;34m\u001b[0m\u001b[0m\n\u001b[0;32m---> 18\u001b[0;31m                 \u001b[0ms\u001b[0m\u001b[0;34m=\u001b[0m\u001b[0mj\u001b[0m\u001b[0;34m\u001b[0m\u001b[0;34m\u001b[0m\u001b[0m\n\u001b[0m\u001b[1;32m     19\u001b[0m                 \u001b[0mmax_corr\u001b[0m\u001b[0;34m.\u001b[0m\u001b[0mvalues\u001b[0m\u001b[0;34m[\u001b[0m\u001b[0mgene_index\u001b[0m\u001b[0;34m,\u001b[0m\u001b[0msub_gene_index\u001b[0m\u001b[0;34m]\u001b[0m\u001b[0;34m=\u001b[0m\u001b[0mmy_data\u001b[0m\u001b[0;34m.\u001b[0m\u001b[0mabs\u001b[0m\u001b[0;34m(\u001b[0m\u001b[0;34m)\u001b[0m\u001b[0;34m.\u001b[0m\u001b[0mmax\u001b[0m\u001b[0;34m(\u001b[0m\u001b[0;34m)\u001b[0m\u001b[0;34m.\u001b[0m\u001b[0mmax\u001b[0m\u001b[0;34m(\u001b[0m\u001b[0;34m)\u001b[0m\u001b[0;34m\u001b[0m\u001b[0;34m\u001b[0m\u001b[0m\n\u001b[1;32m     20\u001b[0m                 \u001b[0mnbr_signif_corr\u001b[0m\u001b[0;34m.\u001b[0m\u001b[0mvalues\u001b[0m\u001b[0;34m[\u001b[0m\u001b[0mgene_index\u001b[0m\u001b[0;34m,\u001b[0m\u001b[0msub_gene_index\u001b[0m\u001b[0;34m]\u001b[0m\u001b[0;34m=\u001b[0m\u001b[0mnp\u001b[0m\u001b[0;34m.\u001b[0m\u001b[0msum\u001b[0m\u001b[0;34m(\u001b[0m\u001b[0;34m(\u001b[0m\u001b[0;34m(\u001b[0m\u001b[0mmy_data\u001b[0m\u001b[0;34m.\u001b[0m\u001b[0mabs\u001b[0m\u001b[0;34m(\u001b[0m\u001b[0;34m)\u001b[0m\u001b[0;34m)\u001b[0m\u001b[0;34m>\u001b[0m\u001b[0msign_cutoff\u001b[0m\u001b[0;34m)\u001b[0m\u001b[0;34m.\u001b[0m\u001b[0mvalues\u001b[0m\u001b[0;34m)\u001b[0m\u001b[0;34m\u001b[0m\u001b[0;34m\u001b[0m\u001b[0m\n",
      "\u001b[0;31mNameError\u001b[0m: name 'j' is not defined"
     ]
    }
   ],
   "source": [
    "nbr_genes=len(gene_info[\"Gene name\"])\n",
    "max_corr=pd.DataFrame(np.zeros([nbr_genes,nbr_genes]), index=gene_info[\"Gene name\"], columns=gene_info[\"Gene name\"])\n",
    "nbr_signif_corr=pd.DataFrame(np.zeros([nbr_genes,nbr_genes]), index=gene_info[\"Gene name\"], columns=gene_info[\"Gene name\"])\n",
    "sign_cutoff=0.1550258\n",
    "gene_index=0\n",
    "gene_info[\"Gene name\"]\n",
    "for gene in gene_info[\"Gene name\"]:\n",
    "    print(gene_index, end=\"\\r\")\n",
    "    gene_folder=glob.glob(\"correlations/correlations_*_*_\"+gene+\"/\")\n",
    "    #print(gene_folder)\n",
    "    if len(gene_folder) ==1 :\n",
    "        sub_gene_index=0\n",
    "        for sub_gene in gene_info[\"Gene name\"]:\n",
    "            sub_gene_file=glob.glob(gene_folder[0]+sub_gene+\".csv.gz\")\n",
    "            #print(sub_gene_file)\n",
    "            if len(sub_gene_file) ==1:\n",
    "                my_data = pd.read_csv(sub_gene_file[0], sep=',',header=0,index_col=0)\n",
    "                s=j\n",
    "                max_corr.values[gene_index,sub_gene_index]=my_data.abs().max().max()\n",
    "                nbr_signif_corr.values[gene_index,sub_gene_index]=np.sum(((my_data.abs())>sign_cutoff).values)\n",
    "            sub_gene_index+=1\n",
    "    gene_index+=1\n",
    "\n",
    "max_corr.shape\n",
    "print(\"Done!\")\n",
    "\n",
    "\"\"\"\n",
    "for gene in sorted(glob.glob(\"correlations/correlations_*_*_*/\")):\n",
    "    break\n",
    "    gene_index+=1\n",
    "max_corr.shape\"\"\""
   ]
  },
  {
   "cell_type": "code",
   "execution_count": 70,
   "metadata": {},
   "outputs": [
    {
     "data": {
      "image/png": "[encoded data removed]",
      "text/plain": [
       "<Figure size 432x288 with 1 Axes>"
      ]
     },
     "metadata": {
      "needs_background": "light"
     },
     "output_type": "display_data"
    }
   ],
   "source": [
    "#(cell_line_signif/cell_line_nbr).sort_values(by=0).plot()\n",
    "nbr_per_cell=(cell_line_signif/cell_line_nbr).values\n",
    "plt.hist((nbr_per_cell))\n",
    "plt.show()"
   ]
  },
  {
   "cell_type": "code",
   "execution_count": 117,
   "metadata": {},
   "outputs": [
    {
     "name": "stdout",
     "output_type": "stream",
     "text": [
      "['correlations/correlations_10_31607424_ZEB1.csv.gz', 'correlations/correlations_15_96869167_NR2F2.csv.gz', 'correlations/correlations_17_2304412_MNT.csv.gz', 'correlations/correlations_19_58180303_ZSCAN4.csv.gz', 'correlations/correlations_2_127864931_BIN1.csv.gz', 'correlations/correlations_6_28317691_ZKSCAN3.csv.gz', 'correlations/correlations_7_128577666_IRF5.csv.gz']\n"
     ]
    }
   ],
   "source": [
    "print(sorted(glob.glob(\"correlations/correlations_*_*.csv.gz\")))"
   ]
  },
  {
   "cell_type": "code",
   "execution_count": 222,
   "metadata": {},
   "outputs": [
    {
     "name": "stdout",
     "output_type": "stream",
     "text": [
      "correlations/correlations_2_127864931_BIN1.csv.gz\n"
     ]
    }
   ],
   "source": [
    "list_of_genes=sorted(glob.glob(\"correlations/correlations_*_*_BIN1.csv.gz\"))\n",
    "list_of_genes=sorted(glob.glob(\"correlations/correlations_*_*.csv.gz\"))\n",
    "i=4\n",
    "print(list_of_genes[i])\n",
    "my_data = pd.read_csv(list_of_genes[i], sep=',',header=0,index_col=0)\n",
    "#a=my_data[((my_data.abs()>0.1550258))].idxmax()\n",
    "#sorted(a.dropna())\n",
    "#from collections import Counter\n",
    "#c = Counter( a )\n",
    "#plt.plot(np.transpose(np.array(list(c.values()))[1:]))\n",
    "#plt.show()"
   ]
  },
  {
   "cell_type": "code",
   "execution_count": 223,
   "metadata": {},
   "outputs": [],
   "source": [
    "a=my_data[((my_data.abs()>0.1550258))].idxmax()\n",
    "a=a.dropna()\n",
    "a=a.str.split(\"|\",expand = True)\n",
    "#a"
   ]
  },
  {
   "cell_type": "code",
   "execution_count": 224,
   "metadata": {},
   "outputs": [],
   "source": [
    "for x in a.index:\n",
    "    a.loc[x,1]=cell_types.loc[a.loc[x,0],1]\n",
    "    a.loc[x,2]=cell_types.loc[a.loc[x,0],2]"
   ]
  },
  {
   "cell_type": "code",
   "execution_count": null,
   "metadata": {},
   "outputs": [],
   "source": []
  },
  {
   "cell_type": "code",
   "execution_count": 225,
   "metadata": {},
   "outputs": [],
   "source": [
    "#a"
   ]
  },
  {
   "cell_type": "code",
   "execution_count": 226,
   "metadata": {},
   "outputs": [
    {
     "name": "stdout",
     "output_type": "stream",
     "text": [
      "In sample\n",
      "0.18474758324382384\n",
      "Normal\n",
      "0.18063112078346028\n"
     ]
    }
   ],
   "source": [
    "print(\"In sample\")\n",
    "print(sum(a[1]==\"whole_blood\")/len(a[1]))\n",
    "print(\"Normal\")\n",
    "print(sum((cell_types[1]==\"whole_blood\")*cell_types[3])/sum(cell_types[3]))"
   ]
  },
  {
   "cell_type": "code",
   "execution_count": 227,
   "metadata": {},
   "outputs": [
    {
     "name": "stdout",
     "output_type": "stream",
     "text": [
      "In sample\n",
      "0.05692803437164339\n",
      "53\n",
      "Normal\n",
      "0.04352557127312296\n",
      "40\n"
     ]
    }
   ],
   "source": [
    "print(\"In sample\")\n",
    "print(sum(a[2]==\"brain\")/(len(a[2])))\n",
    "print(sum(a[2]==\"brain\"))\n",
    "print(\"Normal\")\n",
    "print(sum((cell_types[2]==\"brain\")*cell_types[3])/sum(cell_types[3]))\n",
    "print(sum((cell_types[2]==\"brain\")*cell_types[3]))"
   ]
  },
  {
   "cell_type": "code",
   "execution_count": null,
   "metadata": {},
   "outputs": [],
   "source": []
  },
  {
   "cell_type": "code",
   "execution_count": 230,
   "metadata": {},
   "outputs": [],
   "source": [
    "cell_types = pd.read_csv(\"deepsea_postprocessing/cell_types_with_numbers\", sep=\" \",header=None,index_col=0,keep_default_na=False)#, header=[\"cell_line\",\"fd\",\"df\"])\n",
    "#a.loc[x,0]\n",
    "#cell_types.loc[\"NA\"]"
   ]
  },
  {
   "cell_type": "code",
   "execution_count": null,
   "metadata": {},
   "outputs": [],
   "source": []
  },
  {
   "cell_type": "code",
   "execution_count": null,
   "metadata": {},
   "outputs": [],
   "source": [
    "import glob\n",
    "import pandas as pd\n",
    "import matplotlib.pyplot as plt\n",
    "import numpy as np\n",
    "cell_types = pd.read_csv(\"deepsea_postprocessing/cell_types_with_numbers\", sep=\" \",header=None,index_col=0,keep_default_na=False)#, header=[\"cell_line\",\"fd\",\"df\"])\n",
    "\n",
    "list_of_genes=sorted(glob.glob(\"correlations_some_genes_32_alt_allele/correlations_*_*.csv.gz\"))\n",
    "whole_blood_genes_percentage=[]\n",
    "for i in range(len(list_of_genes)):\n",
    "    print(list_of_genes[i])\n",
    "    my_data = pd.read_csv(list_of_genes[i], sep=',',header=0,index_col=0)\n",
    "    #a=my_data[((my_data.abs()>0.1550258))].idxmax()\n",
    "    #sorted(a.dropna())\n",
    "    #from collections import Counter\n",
    "    #c = Counter( a )\n",
    "    #plt.plot(np.transpose(np.array(list(c.values()))[1:]))\n",
    "    #plt.show()\n",
    "    a=my_data[((my_data.abs()>0.1550258))].idxmax()\n",
    "    a=a.dropna()\n",
    "    a=a.str.split(\"|\",expand = True)\n",
    "    #a\n",
    "    for x in a.index:\n",
    "        a.loc[x,1]=cell_types.loc[a.loc[x,0],1]\n",
    "        a.loc[x,2]=cell_types.loc[a.loc[x,0],2]\n",
    "    #print(\"In sample\")\n",
    "    #print(sum(a[1]==\"whole_blood\")/len(a[1]))\n",
    "    whole_blood_genes_percentage.append(sum(a[1]==\"whole_blood\")/len(a[1]))\n",
    "    #print(\"Normal\")\n",
    "    #print(sum((cell_types[1]==\"whole_blood\")*cell_types[3])/sum(cell_types[3]))\n",
    "\n",
    "\n",
    "plt.plot(whole_blood_genes_percentage)\n",
    "plt.axhline(sum((cell_types[1]==\"whole_blood\")*cell_types[3])/sum(cell_types[3]))\n",
    "plt.show()\n",
    "np.mean(whole_blood_genes_percentage)"
   ]
  }
 ],
 "metadata": {
  "kernelspec": {
   "display_name": "Python 3",
   "language": "python",
   "name": "python3"
  },
  "language_info": {
   "codemirror_mode": {
    "name": "ipython",
    "version": 3
   },
   "file_extension": ".py",
   "mimetype": "text/x-python",
   "name": "python",
   "nbconvert_exporter": "python",
   "pygments_lexer": "ipython3",
   "version": "3.7.2"
  }
 },
 "nbformat": 4,
 "nbformat_minor": 2
}
