{
 "cells": [
  {
   "cell_type": "code",
   "execution_count": 1,
   "metadata": {},
   "outputs": [],
   "source": [
    "import networkx as nx\n",
    "from matplotlib import pyplot, patches\n",
    "import numpy as np\n",
    "\n",
    "def draw_adjacency_matrix(G, node_order=None, partitions=[], colors=[]):\n",
    "    \"\"\"\n",
    "    - G is a netorkx graph\n",
    "    - node_order (optional) is a list of nodes, where each node in G\n",
    "          appears exactly once\n",
    "    - partitions is a list of node lists, where each node in G appears\n",
    "          in exactly one node list\n",
    "    - colors is a list of strings indicating what color each\n",
    "          partition should be\n",
    "    If partitions is specified, the same number of colors needs to be\n",
    "    specified.\n",
    "    \"\"\"\n",
    "    adjacency_matrix = nx.to_numpy_matrix(G, dtype=np.bool, nodelist=node_order)\n",
    "\n",
    "    #Plot adjacency matrix in toned-down black and white\n",
    "    fig = pyplot.figure(figsize=(5, 5)) # in inches\n",
    "    pyplot.imshow(adjacency_matrix,\n",
    "                  cmap=\"Greys\",\n",
    "                  interpolation=\"none\")\n",
    "    \n",
    "    # The rest is just if you have sorted nodes by a partition and want to\n",
    "    # highlight the module boundaries\n",
    "    assert len(partitions) == len(colors)\n",
    "    ax = pyplot.gca()\n",
    "    for partition, color in zip(partitions, colors):\n",
    "        current_idx = 0\n",
    "        for module in partition:\n",
    "            ax.add_patch(patches.Rectangle((current_idx, current_idx),\n",
    "                                          len(module), # Width\n",
    "                                          len(module), # Height\n",
    "                                          facecolor=\"none\",\n",
    "                                          edgecolor=color,\n",
    "                                          linewidth=\"1\"))\n",
    "            current_idx += len(module)"
   ]
  },
  {
   "cell_type": "code",
   "execution_count": 2,
   "metadata": {},
   "outputs": [
    {
     "data": {
      "image/png": "[encoded data removed]",
      "text/plain": [
       "<Figure size 360x360 with 1 Axes>"
      ]
     },
     "metadata": {
      "needs_background": "light"
     },
     "output_type": "display_data"
    }
   ],
   "source": [
    "from scipy import io\n",
    "\n",
    "#A = io.mmread(\"Caltech.mtx\")\n",
    "#G = nx.from_scipy_sparse_matrix(A)\n",
    "G = nx.erdos_renyi_graph(30, 0.05)\n",
    "draw_adjacency_matrix(G)"
   ]
  },
  {
   "cell_type": "code",
   "execution_count": 3,
   "metadata": {},
   "outputs": [
    {
     "data": {
      "text/plain": [
       "Type help() for interactive help, or help(object) for help about object."
      ]
     },
     "execution_count": 3,
     "metadata": {},
     "output_type": "execute_result"
    }
   ],
   "source": [
    "help"
   ]
  },
  {
   "cell_type": "code",
   "execution_count": 4,
   "metadata": {},
   "outputs": [
    {
     "data": {
      "text/plain": [
       "'def assignmentArray_to_lists(assignment_array):\\n    by_attribute_value = defaultdict(list)\\n    for node_index, attribute_value in enumerate(assignment_array):\\n        by_attribute_value[attribute_value].append(node_index)\\n    return by_attribute_value.values()\\n\\n# Load in array which maps node index to dorm number\\n# Convert this to a list of lists indicating dorm membership\\ndorm_assignment = np.genfromtxt(\"caltech_dorms_blanksInferred.txt\", dtype=\"u4\")\\ndorm_lists = assignmentArray_to_lists(dorm_assignment)\\n\\n# Create a list of all nodes sorted by dorm, and plot\\n# adjacency matrix with this ordering\\nnodes_dorm_ordered = [node for dorm in dorm_lists for node in dorm]\\ndraw_adjacency_matrix(G, nodes_dorm_ordered, [dorm_lists],[\"blue\"])'"
      ]
     },
     "execution_count": 4,
     "metadata": {},
     "output_type": "execute_result"
    }
   ],
   "source": [
    "import numpy as np\n",
    "from collections import defaultdict\n",
    "\n",
    "\"\"\"def assignmentArray_to_lists(assignment_array):\n",
    "    by_attribute_value = defaultdict(list)\n",
    "    for node_index, attribute_value in enumerate(assignment_array):\n",
    "        by_attribute_value[attribute_value].append(node_index)\n",
    "    return by_attribute_value.values()\n",
    "\n",
    "# Load in array which maps node index to dorm number\n",
    "# Convert this to a list of lists indicating dorm membership\n",
    "dorm_assignment = np.genfromtxt(\"caltech_dorms_blanksInferred.txt\", dtype=\"u4\")\n",
    "dorm_lists = assignmentArray_to_lists(dorm_assignment)\n",
    "\n",
    "# Create a list of all nodes sorted by dorm, and plot\n",
    "# adjacency matrix with this ordering\n",
    "nodes_dorm_ordered = [node for dorm in dorm_lists for node in dorm]\n",
    "draw_adjacency_matrix(G, nodes_dorm_ordered, [dorm_lists],[\"blue\"])\"\"\""
   ]
  },
  {
   "cell_type": "code",
   "execution_count": 5,
   "metadata": {},
   "outputs": [
    {
     "data": {
      "image/png": "[encoded data removed]",
      "text/plain": [
       "<Figure size 360x360 with 1 Axes>"
      ]
     },
     "metadata": {
      "needs_background": "light"
     },
     "output_type": "display_data"
    }
   ],
   "source": [
    "import community\n",
    "\n",
    "# Run louvain community finding algorithm\n",
    "louvain_community_dict = community.best_partition(G)\n",
    "\n",
    "# Convert community assignmet dict into list of communities\n",
    "louvain_comms = defaultdict(list)\n",
    "for node_index, comm_id in louvain_community_dict.items():\n",
    "    louvain_comms[comm_id].append(node_index)\n",
    "louvain_comms = louvain_comms.values()\n",
    "\n",
    "nodes_louvain_ordered = [node for comm in louvain_comms for node in comm]\n",
    "draw_adjacency_matrix(G, nodes_louvain_ordered, [louvain_comms], [\"blue\"])"
   ]
  },
  {
   "cell_type": "code",
   "execution_count": 10,
   "metadata": {},
   "outputs": [
    {
     "data": {
      "text/plain": [
       "<networkx.classes.graph.Graph at 0x7f303048ae48>"
      ]
     },
     "execution_count": 10,
     "metadata": {},
     "output_type": "execute_result"
    }
   ],
   "source": [
    "G"
   ]
  }
 ],
 "metadata": {
  "kernelspec": {
   "display_name": "Python 3",
   "language": "python",
   "name": "python3"
  },
  "language_info": {
   "codemirror_mode": {
    "name": "ipython",
    "version": 3
   },
   "file_extension": ".py",
   "mimetype": "text/x-python",
   "name": "python",
   "nbconvert_exporter": "python",
   "pygments_lexer": "ipython3",
   "version": "3.7.2"
  }
 },
 "nbformat": 4,
 "nbformat_minor": 2
}
