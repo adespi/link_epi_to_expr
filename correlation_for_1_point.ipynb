{
 "cells": [
  {
   "cell_type": "markdown",
   "metadata": {},
   "source": []
  },
  {
   "cell_type": "code",
   "execution_count": 1,
   "metadata": {},
   "outputs": [
    {
     "ename": "FileNotFoundError",
     "evalue": "[Errno 2] No such file or directory: 'temp/2_127864931/expression/2_127864931.tsv'",
     "output_type": "error",
     "traceback": [
      "\u001b[0;31m---------------------------------------------------------------------------\u001b[0m",
      "\u001b[0;31mFileNotFoundError\u001b[0m                         Traceback (most recent call last)",
      "\u001b[0;32m<ipython-input-1-c23dd1f61820>\u001b[0m in \u001b[0;36m<module>\u001b[0;34m\u001b[0m\n\u001b[1;32m     23\u001b[0m \u001b[0msys\u001b[0m\u001b[0;34m.\u001b[0m\u001b[0margv\u001b[0m\u001b[0;34m[\u001b[0m\u001b[0;36m6\u001b[0m\u001b[0;34m]\u001b[0m\u001b[0;34m=\u001b[0m\u001b[0mint\u001b[0m\u001b[0;34m(\u001b[0m\u001b[0msys\u001b[0m\u001b[0;34m.\u001b[0m\u001b[0margv\u001b[0m\u001b[0;34m[\u001b[0m\u001b[0;36m6\u001b[0m\u001b[0;34m]\u001b[0m\u001b[0;34m)\u001b[0m\u001b[0;34m\u001b[0m\u001b[0;34m\u001b[0m\u001b[0m\n\u001b[1;32m     24\u001b[0m \u001b[0;31m#print(sys.argv[1])\u001b[0m\u001b[0;34m\u001b[0m\u001b[0;34m\u001b[0m\u001b[0;34m\u001b[0m\u001b[0m\n\u001b[0;32m---> 25\u001b[0;31m \u001b[0;32mwith\u001b[0m \u001b[0mopen\u001b[0m\u001b[0;34m(\u001b[0m\u001b[0;34m\"temp/\"\u001b[0m\u001b[0;34m+\u001b[0m\u001b[0msys\u001b[0m\u001b[0;34m.\u001b[0m\u001b[0margv\u001b[0m\u001b[0;34m[\u001b[0m\u001b[0;36m1\u001b[0m\u001b[0;34m]\u001b[0m\u001b[0;34m+\u001b[0m\u001b[0;34m\"/expression/\"\u001b[0m\u001b[0;34m+\u001b[0m\u001b[0msys\u001b[0m\u001b[0;34m.\u001b[0m\u001b[0margv\u001b[0m\u001b[0;34m[\u001b[0m\u001b[0;36m1\u001b[0m\u001b[0;34m]\u001b[0m\u001b[0;34m+\u001b[0m\u001b[0;34m\".tsv\"\u001b[0m\u001b[0;34m)\u001b[0m \u001b[0;32mas\u001b[0m \u001b[0mf\u001b[0m\u001b[0;34m:\u001b[0m\u001b[0;34m\u001b[0m\u001b[0;34m\u001b[0m\u001b[0m\n\u001b[0m\u001b[1;32m     26\u001b[0m     \u001b[0mcontent\u001b[0m \u001b[0;34m=\u001b[0m \u001b[0mf\u001b[0m\u001b[0;34m.\u001b[0m\u001b[0mreadlines\u001b[0m\u001b[0;34m(\u001b[0m\u001b[0;34m)\u001b[0m\u001b[0;34m\u001b[0m\u001b[0;34m\u001b[0m\u001b[0m\n\u001b[1;32m     27\u001b[0m \u001b[0;34m\u001b[0m\u001b[0m\n",
      "\u001b[0;31mFileNotFoundError\u001b[0m: [Errno 2] No such file or directory: 'temp/2_127864931/expression/2_127864931.tsv'"
     ]
    }
   ],
   "source": [
    "import glob\n",
    "import re\n",
    "import os\n",
    "import sys\n",
    "import kipoi\n",
    "import numpy as np\n",
    "import datetime\n",
    "import warnings\n",
    "import pandas as pd\n",
    "import matplotlib.pyplot as plt\n",
    "start = datetime.datetime.now()\n",
    "\n",
    "old_stdout = sys.stdout\n",
    "sys.stdout = open(os.devnull, \"w\")\n",
    "model = kipoi.get_model('DeepSEA/predict')\n",
    "sys.stdout = old_stdout\n",
    "batch_size=100\n",
    "#sys.argv=[\" \",\"5_158526788\",5000,\"gene_name\",1,100,500000]\n",
    "sys.argv=[\" \",\"2_127864931\",5000,\"BIN1\",1,100,500000]\n",
    "sys.argv[2]=int(sys.argv[2])\n",
    "sys.argv[4]=int(sys.argv[4])\n",
    "sys.argv[5]=int(sys.argv[5])\n",
    "sys.argv[6]=int(sys.argv[6])\n",
    "#print(sys.argv[1])\n",
    "with open(\"temp/\"+sys.argv[1]+\"/expression/\"+sys.argv[1]+\".tsv\") as f:\n",
    "    content = f.readlines()\n",
    "\n",
    "content = [x.strip() for x in content]\n",
    "content[0] = content[0].split()\n",
    "content[1] = content[1].split()\n",
    "answ=np.empty([sys.argv[2],445,919])\n",
    "expr=np.empty([445])\n",
    "i=0\n"
   ]
  },
  {
   "cell_type": "code",
   "execution_count": 2,
   "metadata": {},
   "outputs": [],
   "source": [
    "for g in sorted(glob.glob(\"temp/\"+sys.argv[1]+\"/fa_output/out\"+sys.argv[1]+\"_*.fa.gz\")):\n",
    "    dl_kwargs = {'intervals_file': 'temp/'+sys.argv[1]+'/intervals/'+os.path.splitext(os.path.basename(g))[0], 'fasta_file': g, \"num_chr_fasta\": \"False\"}\n",
    "    warnings.filterwarnings('ignore',category=FutureWarning)\n",
    "    dl = model.default_dataloader(**dl_kwargs)\n",
    "    #it = dl.batch_iter(batch_size=sys.argv[2])\n",
    "    it = dl.batch_iter(batch_size=batch_size)\n",
    "    for b in range(0,sys.argv[2],batch_size):\n",
    "        batch = next(it)\n",
    "        warnings.filterwarnings('default',category=FutureWarning)\n",
    "        if (sys.argv[2]<=b+batch_size):\n",
    "            answ[b:sys.argv[2],i,:]=model.predict_on_batch(batch['inputs'])\n",
    "        else:\n",
    "            answ[b:b+batch_size,i,:]=model.predict_on_batch(batch['inputs'])\n",
    "    expr[i]=content[1][content[0].index(re.split('_|\\.',g)[-3])]\n",
    "    i+=1"
   ]
  },
  {
   "cell_type": "code",
   "execution_count": 3,
   "metadata": {},
   "outputs": [
    {
     "name": "stderr",
     "output_type": "stream",
     "text": [
      "/home/antoine/miniconda3/envs/kipoi-gpu-DeepSEA__predict/lib/python3.7/site-packages/numpy/lib/function_base.py:2530: RuntimeWarning: divide by zero encountered in true_divide\n",
      "  c /= stddev[:, None]\n",
      "/home/antoine/miniconda3/envs/kipoi-gpu-DeepSEA__predict/lib/python3.7/site-packages/numpy/lib/function_base.py:2530: RuntimeWarning: invalid value encountered in true_divide\n",
      "  c /= stddev[:, None]\n",
      "/home/antoine/miniconda3/envs/kipoi-gpu-DeepSEA__predict/lib/python3.7/site-packages/numpy/lib/function_base.py:2531: RuntimeWarning: divide by zero encountered in true_divide\n",
      "  c /= stddev[None, :]\n",
      "/home/antoine/miniconda3/envs/kipoi-gpu-DeepSEA__predict/lib/python3.7/site-packages/numpy/lib/function_base.py:2531: RuntimeWarning: invalid value encountered in true_divide\n",
      "  c /= stddev[None, :]\n"
     ]
    },
    {
     "data": {
      "text/plain": [
       "'df.to_csv(\"correlations_para/correlations_\"+sys.argv[1]+\"_\"+sys.argv[3]+\".csv.gz\")\\n\\n#np.savetxt(\"correlations_para/correlations_\"+sys.argv[1]+\"_\"+sys.argv[3]+\".csv\", correlations, delimiter=\",\")\\n\\ntest_time = open(\"correlations_para/correlations_\"+sys.argv[1]+\"_\"+sys.argv[3]+\".time\", \\'w\\')\\ntest_time.write(str(start)+\"\\n\"+str(start_cor)+\"\\n\"+str(datetime.datetime.now()))\\ntest_time.close()'"
      ]
     },
     "execution_count": 3,
     "metadata": {},
     "output_type": "execute_result"
    }
   ],
   "source": [
    "start_cor = datetime.datetime.now()\n",
    "correlations=np.empty([919,sys.argv[2]])\n",
    "for i in range(sys.argv[2]):\n",
    "    correlations[:,i]=np.corrcoef(np.transpose(answ[i,:,:]),expr)[-1][:-1]"
   ]
  },
  {
   "cell_type": "code",
   "execution_count": 30,
   "metadata": {},
   "outputs": [
    {
     "data": {
      "text/plain": [
       "'df.to_csv(\"correlations_para/correlations_\"+sys.argv[1]+\"_\"+sys.argv[3]+\".csv.gz\")\\n\\n#np.savetxt(\"correlations_para/correlations_\"+sys.argv[1]+\"_\"+sys.argv[3]+\".csv\", correlations, delimiter=\",\")\\n\\ntest_time = open(\"correlations_para/correlations_\"+sys.argv[1]+\"_\"+sys.argv[3]+\".time\", \\'w\\')\\ntest_time.write(str(start)+\"\\n\"+str(start_cor)+\"\\n\"+str(datetime.datetime.now()))\\ntest_time.close()'"
      ]
     },
     "execution_count": 30,
     "metadata": {},
     "output_type": "execute_result"
    }
   ],
   "source": [
    "column_names = np.arange(sys.argv[4],sys.argv[6],sys.argv[5])-1-sys.argv[6]/2\n",
    "with open('deepsea_postprocessing/predictor.names') as f:\n",
    "    row_names = f.read().splitlines()\n",
    "\n",
    "df = pd.DataFrame(correlations, columns=column_names, index=row_names)\n",
    "\"\"\"df.to_csv(\"correlations_para/correlations_\"+sys.argv[1]+\"_\"+sys.argv[3]+\".csv.gz\")\n",
    "\n",
    "#np.savetxt(\"correlations_para/correlations_\"+sys.argv[1]+\"_\"+sys.argv[3]+\".csv\", correlations, delimiter=\",\")\n",
    "\n",
    "test_time = open(\"correlations_para/correlations_\"+sys.argv[1]+\"_\"+sys.argv[3]+\".time\", 'w')\n",
    "test_time.write(str(start)+\"\\n\"+str(start_cor)+\"\\n\"+str(datetime.datetime.now()))\n",
    "test_time.close()\"\"\""
   ]
  },
  {
   "cell_type": "code",
   "execution_count": 31,
   "metadata": {},
   "outputs": [
    {
     "data": {
      "image/png": "[encoded data removed]",
      "text/plain": [
       "<Figure size 432x288 with 1 Axes>"
      ]
     },
     "metadata": {
      "needs_background": "light"
     },
     "output_type": "display_data"
    }
   ],
   "source": [
    "import matplotlib.pyplot as plt\n",
    "df=df.fillna(0)\n",
    "#print(list(df.abs().max().sort_values().iloc[-50:].index))\n",
    "#print(df.abs().idxmax())\n",
    "#df.abs().max().plot()\n",
    "#plt.show()\n",
    "plt.scatter(df.abs().max().index, df.abs().max(),s=1)\n",
    "plt.show()"
   ]
  },
  {
   "cell_type": "code",
   "execution_count": 7,
   "metadata": {},
   "outputs": [
    {
     "data": {
      "text/plain": [
       "NHEK|EZH2|None                        0.092858\n",
       "Osteoblasts|H3K9me3|None              0.099977\n",
       "ECC-1|ERalpha|BPA_100nM               0.100019\n",
       "NH-A|EZH2|None                        0.101811\n",
       "HMEC|EZH2|None                        0.103611\n",
       "NHLF|EZH2|None                        0.105176\n",
       "H1-hESC|DNase|None                    0.105266\n",
       "ECC-1|ERalpha|Genistein_100nM         0.105945\n",
       "HeLa-S3|ZKSCAN1|None                  0.106945\n",
       "ECC-1|FOXA1|DMSO_0.02pct              0.107068\n",
       "SK-N-SH_RA|p300|None                  0.107168\n",
       "ECC-1|ERalpha|Estradiol_10nM          0.107496\n",
       "K562|HDAC2|None                       0.107884\n",
       "HeLa-S3|CTCF|None                     0.108019\n",
       "Osteoblasts|H3K36me3|None             0.109319\n",
       "H1-hESC|CTCF|None                     0.109410\n",
       "WERI-Rb-1|DNase|None                  0.109821\n",
       "H7-hESC|DNase|None                    0.109880\n",
       "T-47D|GATA3|DMSO_0.02pct              0.109987\n",
       "HepG2|ZNF274|None                     0.110117\n",
       "H1-hESC|Pol2|None                     0.110367\n",
       "NHDF-Ad|EZH2|None                     0.110489\n",
       "Ishikawa|DNase|4OHTAM_20nM_72hr       0.110630\n",
       "Ishikawa|DNase|Estradiol_100nM_1hr    0.110752\n",
       "NHLF|H3K9me3|None                     0.110942\n",
       "NHEK|H3K9me3|None                     0.111401\n",
       "NHDF-Ad|H3K9me3|None                  0.111534\n",
       "HeLa-S3|AP-2alpha|None                0.111693\n",
       "SK-N-SH_RA|CTCF|None                  0.111758\n",
       "RPTEC|CTCF|None                       0.111789\n",
       "                                        ...   \n",
       "NA|NA|NA                              0.164958\n",
       "HepG2|YY1|None                        0.165164\n",
       "K562|PLU1|None                        0.165658\n",
       "K562|H3K4me3|None                     0.166015\n",
       "K562|PHF8|None                        0.166049\n",
       "PBDE|Pol2|None                        0.166357\n",
       "NHDF-Ad|H3K4me3|None                  0.166544\n",
       "K562|NR2F2|None                       0.166847\n",
       "GM12878|E2F4|None                     0.167109\n",
       "K562|YY1|None                         0.167136\n",
       "A549|TAF1|EtOH_0.02pct                0.168232\n",
       "K562|H3K79me2|None                    0.168305\n",
       "K562|eGFP-JunD|None                   0.168593\n",
       "K562|c-Jun|IFNg30                     0.168920\n",
       "K562|c-Jun|IFNg6h                     0.168954\n",
       "H1-hESC|ATF2|None                     0.169006\n",
       "HepG2|Sin3Ak-20|None                  0.169204\n",
       "GM12878|ELK1|None                     0.169455\n",
       "K562|c-Jun|IFNa6h                     0.169640\n",
       "H1-hESC|H4K91ac|None                  0.169915\n",
       "A549|Sin3Ak-20|EtOH_0.02pct           0.170402\n",
       "HA-sp|DNase|None                      0.170684\n",
       "U2OS|KAP1|None                        0.170719\n",
       "K562|RBBP5|None                       0.171813\n",
       "PFSK-1|TAF1|None                      0.172456\n",
       "A549|GABP|EtOH_0.02pct                0.172487\n",
       "HepG2|TBP|None                        0.173498\n",
       "HepG2|TR4|None                        0.174918\n",
       "K562|H2AZ|None                        0.184335\n",
       "HEK293|TCF7L2|None                    0.185836\n",
       "Length: 919, dtype: float64"
      ]
     },
     "execution_count": 7,
     "metadata": {},
     "output_type": "execute_result"
    }
   ],
   "source": [
    "pos=df.abs().max().sort_values().iloc[-50:]\n",
    "df[list(pos.index)].abs().mean(axis=1).sort_values()"
   ]
  },
  {
   "cell_type": "code",
   "execution_count": 8,
   "metadata": {},
   "outputs": [],
   "source": [
    "#get list of best positions\n",
    "pos=df.abs().max().sort_values().iloc[-50:]\n",
    "#get list of best mark at these positions\n",
    "mark=df.abs().idxmax()[list(pos.index)]\n",
    "import matplotlib.pyplot as plt"
   ]
  },
  {
   "cell_type": "code",
   "execution_count": 9,
   "metadata": {},
   "outputs": [],
   "source": [
    "position_i=(df.columns.get_loc(list(pos.index)[-1]))\n",
    "mark_i=(df.index.get_loc(list(mark)[-1]))"
   ]
  },
  {
   "cell_type": "code",
   "execution_count": 10,
   "metadata": {
    "scrolled": true
   },
   "outputs": [
    {
     "data": {
      "image/png": "[encoded data removed]",
      "text/plain": [
       "<Figure size 432x288 with 1 Axes>"
      ]
     },
     "metadata": {
      "needs_background": "light"
     },
     "output_type": "display_data"
    },
    {
     "data": {
      "text/plain": [
       "array([[ 1.       , -0.3198526],\n",
       "       [-0.3198526,  1.       ]])"
      ]
     },
     "execution_count": 10,
     "metadata": {},
     "output_type": "execute_result"
    }
   ],
   "source": [
    "plt.plot(answ[position_i,:,mark_i] , expr,'.')\n",
    "plt.show()\n",
    "np.corrcoef(answ[position_i,:,mark_i] , expr)\n",
    "#answ=np.empty([sys.argv[2],445,919])\n",
    "#expr=np.empty([445])"
   ]
  },
  {
   "cell_type": "code",
   "execution_count": 11,
   "metadata": {},
   "outputs": [],
   "source": [
    "__logBase10of2 = 3.010299956639811952137388947244930267681898814621085413104274611e-1\n",
    "def RoundToSigFigs_fp( x, sigfigs ):\n",
    "    \"\"\"\n",
    "    Rounds the value(s) in x to the number of significant figures in sigfigs.\n",
    "    Return value has the same type as x.\n",
    "\n",
    "    Restrictions:\n",
    "    sigfigs must be an integer type and store a positive value.\n",
    "    x must be a real value.\n",
    "    \"\"\"\n",
    "    if not ( type(sigfigs) is int or type(sigfigs) is long or\n",
    "             isinstance(sigfigs, np.integer) ):\n",
    "        raise TypeError( \"RoundToSigFigs_fp: sigfigs must be an integer.\" )\n",
    "\n",
    "    if sigfigs <= 0:\n",
    "        raise ValueError( \"RoundToSigFigs_fp: sigfigs must be positive.\" )\n",
    "\n",
    "    if not np.isreal( x ).all():\n",
    "        raise TypeError( \"RoundToSigFigs_fp: x must be real.\" )\n",
    "\n",
    "    xsgn = np.sign(x)\n",
    "    mantissa, binaryExponent = np.frexp( xsgn * x )\n",
    "\n",
    "    decimalExponent = __logBase10of2 * binaryExponent\n",
    "    omag = np.floor(decimalExponent)\n",
    "\n",
    "    mantissa *= 10.0**(decimalExponent - omag)\n",
    "\n",
    "    if mantissa < 1.0:\n",
    "        mantissa *= 10.0\n",
    "        omag -= 1.0\n",
    "\n",
    "    return xsgn * np.around( mantissa, decimals=sigfigs - 1 ) * 10.0**omag"
   ]
  },
  {
   "cell_type": "code",
   "execution_count": null,
   "metadata": {},
   "outputs": [],
   "source": [
    "#print(RoundToSigFigs_fp(answ,3))"
   ]
  },
  {
   "cell_type": "code",
   "execution_count": 14,
   "metadata": {},
   "outputs": [
    {
     "ename": "MemoryError",
     "evalue": "",
     "output_type": "error",
     "traceback": [
      "\u001b[0;31m---------------------------------------------------------------------------\u001b[0m",
      "\u001b[0;31mMemoryError\u001b[0m                               Traceback (most recent call last)",
      "\u001b[0;32m<ipython-input-14-11e9bd89b247>\u001b[0m in \u001b[0;36m<module>\u001b[0;34m\u001b[0m\n\u001b[0;32m----> 1\u001b[0;31m \u001b[0mnp\u001b[0m\u001b[0;34m.\u001b[0m\u001b[0msavez_compressed\u001b[0m\u001b[0;34m(\u001b[0m\u001b[0;34m'test_save_compressed'\u001b[0m\u001b[0;34m,\u001b[0m\u001b[0mRoundToSigFigs_fp\u001b[0m\u001b[0;34m(\u001b[0m\u001b[0mansw\u001b[0m\u001b[0;34m,\u001b[0m\u001b[0;36m3\u001b[0m\u001b[0;34m)\u001b[0m\u001b[0;34m)\u001b[0m\u001b[0;34m\u001b[0m\u001b[0;34m\u001b[0m\u001b[0m\n\u001b[0m",
      "\u001b[0;32m<ipython-input-11-30cbf52b4f76>\u001b[0m in \u001b[0;36mRoundToSigFigs_fp\u001b[0;34m(x, sigfigs)\u001b[0m\n\u001b[1;32m     20\u001b[0m \u001b[0;34m\u001b[0m\u001b[0m\n\u001b[1;32m     21\u001b[0m     \u001b[0mxsgn\u001b[0m \u001b[0;34m=\u001b[0m \u001b[0mnp\u001b[0m\u001b[0;34m.\u001b[0m\u001b[0msign\u001b[0m\u001b[0;34m(\u001b[0m\u001b[0mx\u001b[0m\u001b[0;34m)\u001b[0m\u001b[0;34m\u001b[0m\u001b[0;34m\u001b[0m\u001b[0m\n\u001b[0;32m---> 22\u001b[0;31m     \u001b[0mmantissa\u001b[0m\u001b[0;34m,\u001b[0m \u001b[0mbinaryExponent\u001b[0m \u001b[0;34m=\u001b[0m \u001b[0mnp\u001b[0m\u001b[0;34m.\u001b[0m\u001b[0mfrexp\u001b[0m\u001b[0;34m(\u001b[0m \u001b[0mxsgn\u001b[0m \u001b[0;34m*\u001b[0m \u001b[0mx\u001b[0m \u001b[0;34m)\u001b[0m\u001b[0;34m\u001b[0m\u001b[0;34m\u001b[0m\u001b[0m\n\u001b[0m\u001b[1;32m     23\u001b[0m \u001b[0;34m\u001b[0m\u001b[0m\n\u001b[1;32m     24\u001b[0m     \u001b[0mdecimalExponent\u001b[0m \u001b[0;34m=\u001b[0m \u001b[0m__logBase10of2\u001b[0m \u001b[0;34m*\u001b[0m \u001b[0mbinaryExponent\u001b[0m\u001b[0;34m\u001b[0m\u001b[0;34m\u001b[0m\u001b[0m\n",
      "\u001b[0;31mMemoryError\u001b[0m: "
     ]
    }
   ],
   "source": [
    "np.savez_compressed('test_save_compressed',RoundToSigFigs_fp(answ,3))"
   ]
  },
  {
   "cell_type": "code",
   "execution_count": 12,
   "metadata": {},
   "outputs": [
    {
     "data": {
      "text/plain": [
       "array([[[0.034, 0.003, 0.021, ..., 0.042, 0.035, 0.01 ],\n",
       "        [0.034, 0.003, 0.021, ..., 0.042, 0.035, 0.01 ],\n",
       "        [0.034, 0.003, 0.021, ..., 0.042, 0.035, 0.01 ],\n",
       "        ...,\n",
       "        [0.036, 0.003, 0.022, ..., 0.042, 0.036, 0.009],\n",
       "        [0.034, 0.003, 0.021, ..., 0.042, 0.035, 0.01 ],\n",
       "        [0.034, 0.003, 0.021, ..., 0.042, 0.035, 0.01 ]],\n",
       "\n",
       "       [[0.015, 0.015, 0.032, ..., 0.03 , 0.028, 0.007],\n",
       "        [0.015, 0.015, 0.032, ..., 0.03 , 0.028, 0.007],\n",
       "        [0.015, 0.015, 0.032, ..., 0.03 , 0.028, 0.007],\n",
       "        ...,\n",
       "        [0.016, 0.016, 0.034, ..., 0.031, 0.029, 0.007],\n",
       "        [0.015, 0.015, 0.032, ..., 0.03 , 0.028, 0.007],\n",
       "        [0.015, 0.015, 0.032, ..., 0.03 , 0.028, 0.007]],\n",
       "\n",
       "       [[0.038, 0.106, 0.06 , ..., 0.028, 0.028, 0.007],\n",
       "        [0.038, 0.106, 0.06 , ..., 0.028, 0.028, 0.007],\n",
       "        [0.038, 0.106, 0.06 , ..., 0.028, 0.028, 0.007],\n",
       "        ...,\n",
       "        [0.039, 0.105, 0.063, ..., 0.029, 0.029, 0.007],\n",
       "        [0.038, 0.106, 0.06 , ..., 0.028, 0.028, 0.007],\n",
       "        [0.038, 0.106, 0.06 , ..., 0.028, 0.028, 0.007]],\n",
       "\n",
       "       ...,\n",
       "\n",
       "       [[0.   , 0.001, 0.001, ..., 0.005, 0.19 , 0.019],\n",
       "        [0.   , 0.001, 0.001, ..., 0.005, 0.19 , 0.019],\n",
       "        [0.   , 0.001, 0.001, ..., 0.005, 0.19 , 0.019],\n",
       "        ...,\n",
       "        [0.   , 0.001, 0.001, ..., 0.005, 0.19 , 0.019],\n",
       "        [0.   , 0.001, 0.001, ..., 0.004, 0.188, 0.019],\n",
       "        [0.   , 0.001, 0.001, ..., 0.005, 0.19 , 0.019]],\n",
       "\n",
       "       [[0.   , 0.001, 0.001, ..., 0.004, 0.254, 0.013],\n",
       "        [0.   , 0.001, 0.001, ..., 0.004, 0.254, 0.013],\n",
       "        [0.   , 0.001, 0.001, ..., 0.004, 0.254, 0.013],\n",
       "        ...,\n",
       "        [0.   , 0.001, 0.001, ..., 0.004, 0.254, 0.013],\n",
       "        [0.   , 0.001, 0.001, ..., 0.004, 0.254, 0.013],\n",
       "        [0.   , 0.001, 0.001, ..., 0.004, 0.254, 0.013]],\n",
       "\n",
       "       [[0.001, 0.002, 0.002, ..., 0.005, 0.299, 0.02 ],\n",
       "        [0.001, 0.002, 0.002, ..., 0.005, 0.299, 0.02 ],\n",
       "        [0.001, 0.002, 0.002, ..., 0.005, 0.299, 0.02 ],\n",
       "        ...,\n",
       "        [0.001, 0.002, 0.002, ..., 0.005, 0.299, 0.02 ],\n",
       "        [0.001, 0.002, 0.002, ..., 0.005, 0.303, 0.02 ],\n",
       "        [0.001, 0.002, 0.002, ..., 0.005, 0.299, 0.02 ]]])"
      ]
     },
     "execution_count": 12,
     "metadata": {},
     "output_type": "execute_result"
    }
   ],
   "source": [
    "#try to compare time with\n",
    "np.round(answ,3)"
   ]
  },
  {
   "cell_type": "code",
   "execution_count": null,
   "metadata": {},
   "outputs": [],
   "source": []
  }
 ],
 "metadata": {
  "kernelspec": {
   "display_name": "Python 3",
   "language": "python",
   "name": "python3"
  },
  "language_info": {
   "codemirror_mode": {
    "name": "ipython",
    "version": 3
   },
   "file_extension": ".py",
   "mimetype": "text/x-python",
   "name": "python",
   "nbconvert_exporter": "python",
   "pygments_lexer": "ipython3",
   "version": "3.7.2"
  }
 },
 "nbformat": 4,
 "nbformat_minor": 2
}
