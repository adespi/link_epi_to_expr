{
 "cells": [
  {
   "cell_type": "code",
   "execution_count": 1,
   "metadata": {},
   "outputs": [],
   "source": [
    "import os\n",
    "os.chdir(\"../CombiningDependentPvaluesUsingEBM/Python\")"
   ]
  },
  {
   "cell_type": "code",
   "execution_count": 2,
   "metadata": {},
   "outputs": [],
   "source": [
    "import numpy as np\n",
    "from EmpiricalBrownsMethod import *\n",
    "from scipy.stats import pearsonr\n",
    "os.chdir(\"../../link_epi_to_expr/\")\n",
    "\n",
    "\n",
    "# ARTIFICIAL DATASET\n",
    "#RandomData.tsv contains gaussian random data.\n",
    "#--Independent Var [line 1] are 25 samples from a unit normal distribution.\n",
    "#--Depedent Var 1-10 [line 2-11] are each 25 samples drawn from a 10 dimensional normal distribution centered at the origin with off diagonal terms a=0.25.\n",
    "#--The P values from a pearson correlation between the independent var and each dependent var are combined\n",
    "data = np.load(\"answ.npy\")"
   ]
  },
  {
   "cell_type": "code",
   "execution_count": 3,
   "metadata": {},
   "outputs": [],
   "source": [
    "qvals = np.genfromtxt(fname=\"qvals.tsv\", delimiter=\"\\t\", skip_header=1)\n",
    "qvals=np.delete(qvals,0,1)"
   ]
  },
  {
   "cell_type": "code",
   "execution_count": 4,
   "metadata": {},
   "outputs": [
    {
     "name": "stdout",
     "output_type": "stream",
     "text": [
      "(5000, 445, 919)\n",
      "(919, 5000)\n"
     ]
    }
   ],
   "source": [
    "print(data.shape)\n",
    "print(qvals.shape)"
   ]
  },
  {
   "cell_type": "code",
   "execution_count": 5,
   "metadata": {},
   "outputs": [
    {
     "name": "stdout",
     "output_type": "stream",
     "text": [
      "(919, 445) 919\n"
     ]
    }
   ],
   "source": [
    "print((data[2631,:,:]).transpose().shape, len(qvals[:,2631].tolist()))"
   ]
  },
  {
   "cell_type": "code",
   "execution_count": 6,
   "metadata": {},
   "outputs": [
    {
     "name": "stdout",
     "output_type": "stream",
     "text": [
      "\n",
      "\n",
      "Random Data, EMB\n",
      "(0.00016409604696134372, 0.0, 161.33092046806507, 11.392732370629634)\n"
     ]
    }
   ],
   "source": [
    "print(\"\\n\\nRandom Data, EMB\")\n",
    "print(EmpiricalBrownsMethod((data[2631,:,:]).transpose(), qvals[:,2631].tolist(), extra_info = True))"
   ]
  }
 ],
 "metadata": {
  "kernelspec": {
   "display_name": "Python 3",
   "language": "python",
   "name": "python3"
  },
  "language_info": {
   "codemirror_mode": {
    "name": "ipython",
    "version": 3
   },
   "file_extension": ".py",
   "mimetype": "text/x-python",
   "name": "python",
   "nbconvert_exporter": "python",
   "pygments_lexer": "ipython3",
   "version": "3.7.2"
  }
 },
 "nbformat": 4,
 "nbformat_minor": 2
}
