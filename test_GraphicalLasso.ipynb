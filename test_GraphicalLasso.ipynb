{
 "cells": [
  {
   "cell_type": "markdown",
   "metadata": {},
   "source": []
  },
  {
   "cell_type": "code",
   "execution_count": 1,
   "metadata": {},
   "outputs": [],
   "source": [
    "import glob\n",
    "import re\n",
    "import os\n",
    "import sys\n",
    "import kipoi\n",
    "import numpy as np\n",
    "import datetime\n",
    "import warnings\n",
    "import pandas as pd\n",
    "import matplotlib.pyplot as plt\n",
    "start = datetime.datetime.now()\n",
    "\n",
    "old_stdout = sys.stdout\n",
    "sys.stdout = open(os.devnull, \"w\")\n",
    "model = kipoi.get_model('DeepSEA/predict')\n",
    "sys.stdout = old_stdout\n",
    "batch_size=100\n",
    "#sys.argv=[\" \",\"5_158526788\",5000,\"gene_name\",1,100,500000]\n",
    "sys.argv=[\" \",\"2_127864931\",5000,\"BIN1\",1,100,500000]\n",
    "sys.argv[2]=int(sys.argv[2])\n",
    "sys.argv[4]=int(sys.argv[4])\n",
    "sys.argv[5]=int(sys.argv[5])\n",
    "sys.argv[6]=int(sys.argv[6])\n",
    "#print(sys.argv[1])\n",
    "with open(\"temp/\"+sys.argv[1]+\"/expression/\"+sys.argv[1]+\".tsv\") as f:\n",
    "    content = f.readlines()\n",
    "\n",
    "content = [x.strip() for x in content]\n",
    "content[0] = content[0].split()\n",
    "content[1] = content[1].split()\n",
    "answ=np.empty([sys.argv[2],445,919])\n",
    "expr=np.empty([445])\n",
    "i=0\n"
   ]
  },
  {
   "cell_type": "code",
   "execution_count": 2,
   "metadata": {},
   "outputs": [],
   "source": [
    "for g in sorted(glob.glob(\"temp/\"+sys.argv[1]+\"/fa_output/out\"+sys.argv[1]+\"_*.fa.gz\")):\n",
    "    dl_kwargs = {'intervals_file': 'temp/'+sys.argv[1]+'/intervals/'+os.path.splitext(os.path.basename(g))[0], 'fasta_file': g, \"num_chr_fasta\": \"False\"}\n",
    "    warnings.filterwarnings('ignore',category=FutureWarning)\n",
    "    dl = model.default_dataloader(**dl_kwargs)\n",
    "    #it = dl.batch_iter(batch_size=sys.argv[2])\n",
    "    it = dl.batch_iter(batch_size=batch_size)\n",
    "    for b in range(0,sys.argv[2],batch_size):\n",
    "        batch = next(it)\n",
    "        warnings.filterwarnings('default',category=FutureWarning)\n",
    "        if (sys.argv[2]<=b+batch_size):\n",
    "            answ[b:sys.argv[2],i,:]=model.predict_on_batch(batch['inputs'])\n",
    "        else:\n",
    "            answ[b:b+batch_size,i,:]=model.predict_on_batch(batch['inputs'])\n",
    "    expr[i]=content[1][content[0].index(re.split('_|\\.',g)[-3])]\n",
    "    i+=1"
   ]
  },
  {
   "cell_type": "code",
   "execution_count": 3,
   "metadata": {},
   "outputs": [
    {
     "data": {
      "text/plain": [
       "(445, 919)"
      ]
     },
     "execution_count": 3,
     "metadata": {},
     "output_type": "execute_result"
    }
   ],
   "source": [
    "answ[1,:,:].shape"
   ]
  },
  {
   "cell_type": "code",
   "execution_count": 7,
   "metadata": {
    "scrolled": false
   },
   "outputs": [
    {
     "name": "stderr",
     "output_type": "stream",
     "text": [
      "/home/antoine/miniconda3/envs/kipoi-gpu-DeepSEA__predict/lib/python3.7/site-packages/sklearn/covariance/graph_lasso_.py:265: ConvergenceWarning: graphical_lasso: did not converge after 1000 iteration: dual gap: 6.250e-04\n",
      "  % (max_iter, d_gap), ConvergenceWarning)\n"
     ]
    },
    {
     "data": {
      "text/plain": [
       "Text(0.5, 1.0, 'GraphicalLasso covariance')"
      ]
     },
     "execution_count": 7,
     "metadata": {},
     "output_type": "execute_result"
    },
    {
     "data": {
      "image/png": "[encoded data removed]",
      "text/plain": [
       "<Figure size 432x288 with 1 Axes>"
      ]
     },
     "metadata": {},
     "output_type": "display_data"
    }
   ],
   "source": [
    "from sklearn.covariance import GraphicalLasso\n",
    "model = GraphicalLasso(max_iter=1000)\n",
    "#X = (n_samples = 445*5000, n_features=919) answ=np.empty([sys.argv[2],445,919])\n",
    "X = answ[1,:,:]\n",
    "#X = answ.reshape([sys.argv[2]*445,919)\n",
    "model.fit(X)\n",
    "cov_ = model.covariance_\n",
    "prec_ = model.precision_\n",
    "\n",
    "vmax = cov_.max()\n",
    "plt.imshow(cov_, interpolation='nearest', vmin=-vmax, vmax=vmax,\n",
    "           cmap=plt.cm.RdBu_r)\n",
    "plt.xticks(())\n",
    "plt.yticks(())\n",
    "plt.title('%s covariance' % \"GraphicalLasso\")"
   ]
  },
  {
   "cell_type": "code",
   "execution_count": null,
   "metadata": {},
   "outputs": [],
   "source": [
    "precs = [('Empirical', linalg.inv(emp_cov)), ('Ledoit-Wolf', lw_prec_),\n",
    "         ('GraphicalLasso', prec_), ('True', prec)]\n",
    "vmax = .9 * prec_.max()\n",
    "for i, (name, this_prec) in enumerate(precs):\n",
    "    ax = plt.subplot(2, 4, i + 5)\n",
    "    plt.imshow(np.ma.masked_equal(this_prec, 0),\n",
    "               interpolation='nearest', vmin=-vmax, vmax=vmax,\n",
    "               cmap=plt.cm.RdBu_r)\n",
    "    plt.xticks(())\n",
    "    plt.yticks(())\n",
    "    plt.title('%s precision' % name)\n",
    "    if hasattr(ax, 'set_facecolor'):\n",
    "        ax.set_facecolor('.7')\n",
    "    else:\n",
    "        ax.set_axis_bgcolor('.7')\n"
   ]
  },
  {
   "cell_type": "raw",
   "metadata": {},
   "source": [
    "start_cor = datetime.datetime.now()\n",
    "correlations=np.empty([919,sys.argv[2]])\n",
    "for i in range(sys.argv[2]):\n",
    "    correlations[:,i]=np.corrcoef(np.transpose(answ[i,:,:]),expr)[-1][:-1]"
   ]
  },
  {
   "cell_type": "raw",
   "metadata": {},
   "source": [
    "column_names = np.arange(sys.argv[4],sys.argv[6],sys.argv[5])-1-sys.argv[6]/2\n",
    "with open('deepsea_postprocessing/predictor.names') as f:\n",
    "    row_names = f.read().splitlines()\n",
    "\n",
    "df = pd.DataFrame(correlations, columns=column_names, index=row_names)\n",
    "\"\"\"df.to_csv(\"correlations/correlations_\"+sys.argv[1]+\"_\"+sys.argv[3]+\".csv.gz\")\n",
    "\n",
    "#np.savetxt(\"correlations/correlations_\"+sys.argv[1]+\"_\"+sys.argv[3]+\".csv\", correlations, delimiter=\",\")\n",
    "\n",
    "test_time = open(\"correlations/correlations_\"+sys.argv[1]+\"_\"+sys.argv[3]+\".time\", 'w')\n",
    "test_time.write(str(start)+\"\\n\"+str(start_cor)+\"\\n\"+str(datetime.datetime.now()))\n",
    "test_time.close()\"\"\""
   ]
  },
  {
   "cell_type": "raw",
   "metadata": {},
   "source": [
    "import matplotlib.pyplot as plt\n",
    "df=df.fillna(0)\n",
    "#print(list(df.abs().max().sort_values().iloc[-50:].index))\n",
    "#print(df.abs().idxmax())\n",
    "#df.abs().max().plot()\n",
    "#plt.show()\n",
    "plt.scatter(df.abs().max().index, df.abs().max(),s=1)\n",
    "plt.show()"
   ]
  },
  {
   "cell_type": "raw",
   "metadata": {},
   "source": [
    "pos=df.abs().max().sort_values().iloc[-50:]\n",
    "df[list(pos.index)].abs().mean(axis=1).sort_values()"
   ]
  },
  {
   "cell_type": "raw",
   "metadata": {},
   "source": [
    "#get list of best positions\n",
    "pos=df.abs().max().sort_values().iloc[-50:]\n",
    "#get list of best mark at these positions\n",
    "mark=df.abs().idxmax()[list(pos.index)]\n",
    "import matplotlib.pyplot as plt"
   ]
  },
  {
   "cell_type": "raw",
   "metadata": {},
   "source": [
    "position_i=(df.columns.get_loc(list(pos.index)[-1]))\n",
    "mark_i=(df.index.get_loc(list(mark)[-1]))"
   ]
  },
  {
   "cell_type": "raw",
   "metadata": {
    "scrolled": true
   },
   "source": [
    "plt.plot(answ[position_i,:,mark_i] , expr,'.')\n",
    "plt.show()\n",
    "np.corrcoef(answ[position_i,:,mark_i] , expr)\n",
    "#answ=np.empty([sys.argv[2],445,919])\n",
    "#expr=np.empty([445])"
   ]
  },
  {
   "cell_type": "raw",
   "metadata": {},
   "source": [
    "__logBase10of2 = 3.010299956639811952137388947244930267681898814621085413104274611e-1\n",
    "def RoundToSigFigs_fp( x, sigfigs ):\n",
    "    \"\"\"\n",
    "    Rounds the value(s) in x to the number of significant figures in sigfigs.\n",
    "    Return value has the same type as x.\n",
    "\n",
    "    Restrictions:\n",
    "    sigfigs must be an integer type and store a positive value.\n",
    "    x must be a real value.\n",
    "    \"\"\"\n",
    "    if not ( type(sigfigs) is int or type(sigfigs) is long or\n",
    "             isinstance(sigfigs, np.integer) ):\n",
    "        raise TypeError( \"RoundToSigFigs_fp: sigfigs must be an integer.\" )\n",
    "\n",
    "    if sigfigs <= 0:\n",
    "        raise ValueError( \"RoundToSigFigs_fp: sigfigs must be positive.\" )\n",
    "\n",
    "    if not np.isreal( x ).all():\n",
    "        raise TypeError( \"RoundToSigFigs_fp: x must be real.\" )\n",
    "\n",
    "    xsgn = np.sign(x)\n",
    "    mantissa, binaryExponent = np.frexp( xsgn * x )\n",
    "\n",
    "    decimalExponent = __logBase10of2 * binaryExponent\n",
    "    omag = np.floor(decimalExponent)\n",
    "\n",
    "    mantissa *= 10.0**(decimalExponent - omag)\n",
    "\n",
    "    if mantissa < 1.0:\n",
    "        mantissa *= 10.0\n",
    "        omag -= 1.0\n",
    "\n",
    "    return xsgn * np.around( mantissa, decimals=sigfigs - 1 ) * 10.0**omag"
   ]
  },
  {
   "cell_type": "raw",
   "metadata": {},
   "source": [
    "#print(RoundToSigFigs_fp(answ,3))"
   ]
  },
  {
   "cell_type": "raw",
   "metadata": {},
   "source": [
    "np.savez_compressed('test_save_compressed',RoundToSigFigs_fp(answ,3))"
   ]
  },
  {
   "cell_type": "raw",
   "metadata": {},
   "source": [
    "#try to compare time with\n",
    "np.round(answ,3)"
   ]
  },
  {
   "cell_type": "code",
   "execution_count": null,
   "metadata": {},
   "outputs": [],
   "source": []
  },
  {
   "cell_type": "code",
   "execution_count": null,
   "metadata": {},
   "outputs": [],
   "source": []
  },
  {
   "cell_type": "code",
   "execution_count": null,
   "metadata": {},
   "outputs": [],
   "source": []
  },
  {
   "cell_type": "code",
   "execution_count": null,
   "metadata": {},
   "outputs": [],
   "source": []
  },
  {
   "cell_type": "code",
   "execution_count": null,
   "metadata": {},
   "outputs": [],
   "source": []
  }
 ],
 "metadata": {
  "kernelspec": {
   "display_name": "Python 3",
   "language": "python",
   "name": "python3"
  },
  "language_info": {
   "codemirror_mode": {
    "name": "ipython",
    "version": 3
   },
   "file_extension": ".py",
   "mimetype": "text/x-python",
   "name": "python",
   "nbconvert_exporter": "python",
   "pygments_lexer": "ipython3",
   "version": "3.7.2"
  }
 },
 "nbformat": 4,
 "nbformat_minor": 2
}
