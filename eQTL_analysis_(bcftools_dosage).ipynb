{
 "cells": [
  {
   "cell_type": "code",
   "execution_count": 1,
   "metadata": {
    "scrolled": false
   },
   "outputs": [],
   "source": [
    "#TO EXCTRACT DOSAGE: bcftools plugin dosage -r 2:127614931-128114931  /data1/antoine/genome_seq/ALL.chr2.phase3_shapeit2_mvncall_integrated_v5a.20130502.genotypes.vcf.gz > ijbhisdbvs.tsv\n",
    "import glob\n",
    "import re\n",
    "import os\n",
    "import sys\n",
    "import kipoi\n",
    "import numpy as np\n",
    "import datetime\n",
    "import warnings\n",
    "import pandas as pd\n",
    "sys.argv=[\" \",\"9_37034476\",5000,\"PAX5\",1,100,500000]\n",
    "\n",
    "exp=pd.read_csv(\"/home/antoine/2_127864931.tsv\",sep=\"\\t\")\n",
    "dos=pd.read_csv(\"/home/antoine/2_127864931_dosage_simple.tsv\",sep=\"\\t\",low_memory=False,index_col=1)\n",
    "\n",
    "dos.columns = [re.sub('\\[[0-9]*\\]','',x) for x in list(dos)]\n",
    "\n",
    "with open(\"/home/antoine/link_epi_to_expr/list_commun_patients\") as f:\n",
    "    list_p = f.readlines()\n",
    "\n",
    "list_p = [x.strip() for x in list_p]\n",
    "#for x in range(len(list_p)):\n",
    "#    list_p[x] = list_p[x].split()"
   ]
  },
  {
   "cell_type": "code",
   "execution_count": 2,
   "metadata": {
    "scrolled": true
   },
   "outputs": [],
   "source": [
    "#print(np.shape(content))\n",
    "#print(np.shape(content2))\n",
    "#print(np.shape(content2[1:][4:]))"
   ]
  },
  {
   "cell_type": "code",
   "execution_count": 3,
   "metadata": {},
   "outputs": [],
   "source": [
    "expression=pd.DataFrame(np.empty([1,445]), columns=list_p)\n",
    "dosage=pd.DataFrame(np.empty([dos.shape[0],445]), columns=list_p , index=list(dos.index))\n",
    "for patient in list_p:\n",
    "    expression[patient]=exp[patient]\n",
    "    dosage[patient]=dos[patient].astype(str).astype(float)"
   ]
  },
  {
   "cell_type": "code",
   "execution_count": 4,
   "metadata": {},
   "outputs": [
    {
     "name": "stdout",
     "output_type": "stream",
     "text": [
      "           HG00096  HG00097  HG00099  HG00100  HG00101  HG00102  HG00103  \\\n",
      "127614972      0.0      0.0      0.0      0.0      0.0      0.0      0.0   \n",
      "127615009      0.0      0.0      0.0      0.0      0.0      0.0      0.0   \n",
      "127615018      0.0      0.0      0.0      0.0      0.0      0.0      0.0   \n",
      "127615059      0.0      0.0      0.0      0.0      0.0      0.0      0.0   \n",
      "127615182      0.0      0.0      0.0      0.0      0.0      0.0      0.0   \n",
      "127615240      0.0      0.0      0.0      0.0      0.0      0.0      0.0   \n",
      "127615250      0.0      0.0      0.0      0.0      1.0      0.0      0.0   \n",
      "127615254      0.0      0.0      0.0      0.0      0.0      0.0      0.0   \n",
      "127615314      0.0      0.0      0.0      0.0      0.0      0.0      0.0   \n",
      "127615375      0.0      0.0      0.0      0.0      0.0      0.0      0.0   \n",
      "127615478      0.0      0.0      0.0      0.0      0.0      0.0      0.0   \n",
      "127615508      0.0      0.0      0.0      0.0      0.0      0.0      0.0   \n",
      "127615511      0.0      0.0      0.0      0.0      0.0      0.0      0.0   \n",
      "127615523      0.0      0.0      0.0      0.0      0.0      0.0      0.0   \n",
      "127615573      0.0      0.0      0.0      0.0      0.0      0.0      0.0   \n",
      "127615651      0.0      0.0      0.0      0.0      0.0      0.0      0.0   \n",
      "127615691      0.0      0.0      0.0      0.0      0.0      0.0      0.0   \n",
      "127615710      0.0      0.0      0.0      0.0      0.0      0.0      0.0   \n",
      "127615805      0.0      0.0      0.0      0.0      0.0      0.0      0.0   \n",
      "127615888      0.0      0.0      0.0      0.0      0.0      0.0      0.0   \n",
      "127615898      0.0      0.0      0.0      0.0      0.0      0.0      0.0   \n",
      "127615900      0.0      0.0      0.0      0.0      0.0      0.0      0.0   \n",
      "127615903      0.0      0.0      0.0      0.0      0.0      0.0      0.0   \n",
      "127615904      0.0      0.0      0.0      0.0      0.0      0.0      0.0   \n",
      "127615957      0.0      0.0      0.0      0.0      0.0      0.0      0.0   \n",
      "127616069      0.0      0.0      0.0      0.0      0.0      0.0      0.0   \n",
      "127616074      0.0      0.0      0.0      0.0      0.0      0.0      0.0   \n",
      "127616152      0.0      0.0      0.0      0.0      0.0      0.0      0.0   \n",
      "127616199      0.0      0.0      0.0      0.0      0.0      0.0      0.0   \n",
      "127616210      0.0      0.0      0.0      0.0      0.0      0.0      0.0   \n",
      "...            ...      ...      ...      ...      ...      ...      ...   \n",
      "128113704      0.0      0.0      0.0      0.0      0.0      0.0      0.0   \n",
      "128113716      0.0      0.0      0.0      0.0      0.0      0.0      0.0   \n",
      "128113749      0.0      0.0      0.0      0.0      0.0      1.0      0.0   \n",
      "128113795      0.0      0.0      0.0      0.0      0.0      0.0      0.0   \n",
      "128113856      1.0      0.0      0.0      0.0      0.0      0.0      1.0   \n",
      "128113893      0.0      0.0      0.0      0.0      0.0      0.0      0.0   \n",
      "128113911      0.0      0.0      0.0      0.0      0.0      0.0      0.0   \n",
      "128113965      0.0      0.0      0.0      0.0      0.0      0.0      0.0   \n",
      "128113982      0.0      0.0      0.0      0.0      0.0      0.0      0.0   \n",
      "128114011      0.0      0.0      0.0      0.0      0.0      0.0      0.0   \n",
      "128114017      0.0      0.0      0.0      0.0      0.0      0.0      0.0   \n",
      "128114045      0.0      0.0      0.0      0.0      0.0      0.0      0.0   \n",
      "128114057      0.0      0.0      0.0      0.0      0.0      0.0      0.0   \n",
      "128114095      0.0      0.0      0.0      0.0      0.0      0.0      0.0   \n",
      "128114190      0.0      0.0      0.0      0.0      0.0      0.0      0.0   \n",
      "128114210      0.0      0.0      0.0      0.0      0.0      0.0      0.0   \n",
      "128114219      0.0      0.0      0.0      0.0      0.0      0.0      0.0   \n",
      "128114221      0.0      0.0      0.0      0.0      0.0      0.0      0.0   \n",
      "128114264      0.0      0.0      0.0      0.0      0.0      0.0      0.0   \n",
      "128114352      0.0      0.0      0.0      0.0      0.0      0.0      0.0   \n",
      "128114385      0.0      0.0      0.0      0.0      0.0      0.0      0.0   \n",
      "128114436      0.0      0.0      0.0      0.0      0.0      0.0      0.0   \n",
      "128114445      0.0      0.0      0.0      0.0      0.0      0.0      0.0   \n",
      "128114453      0.0      0.0      0.0      0.0      0.0      0.0      0.0   \n",
      "128114596      0.0      0.0      0.0      0.0      0.0      0.0      0.0   \n",
      "128114611      0.0      0.0      0.0      0.0      0.0      0.0      0.0   \n",
      "128114630      0.0      0.0      0.0      0.0      0.0      0.0      0.0   \n",
      "128114770      0.0      0.0      0.0      0.0      0.0      0.0      0.0   \n",
      "128114879      0.0      0.0      0.0      0.0      0.0      0.0      0.0   \n",
      "128114925      0.0      0.0      0.0      0.0      0.0      0.0      0.0   \n",
      "\n",
      "           HG00105  HG00106  HG00108  ...  NA20809  NA20810  NA20811  NA20812  \\\n",
      "127614972      0.0      0.0      0.0  ...      0.0      0.0      0.0      0.0   \n",
      "127615009      0.0      0.0      0.0  ...      0.0      0.0      0.0      0.0   \n",
      "127615018      0.0      0.0      0.0  ...      0.0      0.0      0.0      0.0   \n",
      "127615059      0.0      0.0      0.0  ...      0.0      0.0      0.0      0.0   \n",
      "127615182      0.0      0.0      0.0  ...      0.0      0.0      0.0      0.0   \n",
      "127615240      0.0      0.0      0.0  ...      0.0      0.0      0.0      0.0   \n",
      "127615250      0.0      0.0      0.0  ...      0.0      0.0      0.0      0.0   \n",
      "127615254      0.0      0.0      0.0  ...      0.0      0.0      0.0      0.0   \n",
      "127615314      0.0      0.0      0.0  ...      0.0      0.0      0.0      0.0   \n",
      "127615375      0.0      0.0      0.0  ...      0.0      0.0      0.0      0.0   \n",
      "127615478      0.0      0.0      0.0  ...      0.0      0.0      0.0      0.0   \n",
      "127615508      0.0      0.0      0.0  ...      0.0      0.0      0.0      0.0   \n",
      "127615511      0.0      0.0      0.0  ...      0.0      0.0      0.0      0.0   \n",
      "127615523      0.0      0.0      0.0  ...      0.0      0.0      0.0      0.0   \n",
      "127615573      0.0      0.0      0.0  ...      0.0      0.0      0.0      0.0   \n",
      "127615651      0.0      0.0      0.0  ...      0.0      0.0      0.0      0.0   \n",
      "127615691      0.0      0.0      0.0  ...      0.0      0.0      0.0      0.0   \n",
      "127615710      0.0      0.0      0.0  ...      0.0      0.0      0.0      0.0   \n",
      "127615805      0.0      0.0      0.0  ...      0.0      0.0      0.0      0.0   \n",
      "127615888      0.0      0.0      0.0  ...      0.0      0.0      0.0      0.0   \n",
      "127615898      0.0      0.0      0.0  ...      0.0      0.0      0.0      0.0   \n",
      "127615900      0.0      0.0      0.0  ...      0.0      0.0      0.0      0.0   \n",
      "127615903      0.0      0.0      0.0  ...      0.0      0.0      0.0      0.0   \n",
      "127615904      0.0      0.0      0.0  ...      0.0      0.0      0.0      0.0   \n",
      "127615957      0.0      0.0      0.0  ...      0.0      0.0      0.0      0.0   \n",
      "127616069      0.0      0.0      0.0  ...      0.0      0.0      0.0      0.0   \n",
      "127616074      0.0      0.0      0.0  ...      0.0      0.0      0.0      0.0   \n",
      "127616152      0.0      0.0      0.0  ...      0.0      0.0      0.0      0.0   \n",
      "127616199      0.0      0.0      0.0  ...      0.0      0.0      0.0      0.0   \n",
      "127616210      0.0      0.0      0.0  ...      0.0      0.0      0.0      0.0   \n",
      "...            ...      ...      ...  ...      ...      ...      ...      ...   \n",
      "128113704      0.0      0.0      0.0  ...      0.0      0.0      0.0      0.0   \n",
      "128113716      0.0      0.0      0.0  ...      0.0      0.0      0.0      0.0   \n",
      "128113749      0.0      0.0      0.0  ...      1.0      0.0      0.0      0.0   \n",
      "128113795      0.0      0.0      0.0  ...      0.0      0.0      0.0      0.0   \n",
      "128113856      0.0      0.0      0.0  ...      0.0      1.0      0.0      0.0   \n",
      "128113893      0.0      0.0      0.0  ...      0.0      0.0      0.0      0.0   \n",
      "128113911      0.0      0.0      0.0  ...      0.0      0.0      0.0      0.0   \n",
      "128113965      0.0      0.0      0.0  ...      0.0      0.0      0.0      0.0   \n",
      "128113982      0.0      0.0      0.0  ...      0.0      0.0      0.0      0.0   \n",
      "128114011      0.0      0.0      0.0  ...      0.0      0.0      0.0      0.0   \n",
      "128114017      0.0      0.0      0.0  ...      0.0      0.0      0.0      0.0   \n",
      "128114045      0.0      0.0      0.0  ...      0.0      0.0      0.0      0.0   \n",
      "128114057      0.0      0.0      0.0  ...      0.0      0.0      0.0      0.0   \n",
      "128114095      0.0      0.0      0.0  ...      0.0      0.0      0.0      0.0   \n",
      "128114190      0.0      0.0      0.0  ...      0.0      0.0      0.0      0.0   \n",
      "128114210      0.0      0.0      0.0  ...      0.0      0.0      0.0      0.0   \n",
      "128114219      0.0      0.0      0.0  ...      0.0      0.0      0.0      0.0   \n",
      "128114221      0.0      0.0      0.0  ...      0.0      0.0      0.0      0.0   \n",
      "128114264      0.0      0.0      0.0  ...      0.0      0.0      0.0      0.0   \n",
      "128114352      0.0      0.0      0.0  ...      0.0      0.0      0.0      0.0   \n",
      "128114385      0.0      0.0      0.0  ...      0.0      0.0      0.0      0.0   \n",
      "128114436      0.0      0.0      0.0  ...      0.0      0.0      0.0      0.0   \n",
      "128114445      0.0      0.0      0.0  ...      0.0      0.0      0.0      0.0   \n",
      "128114453      0.0      0.0      0.0  ...      0.0      0.0      0.0      0.0   \n",
      "128114596      0.0      0.0      0.0  ...      0.0      0.0      0.0      0.0   \n",
      "128114611      0.0      0.0      0.0  ...      0.0      0.0      0.0      0.0   \n",
      "128114630      0.0      0.0      0.0  ...      0.0      0.0      0.0      0.0   \n",
      "128114770      0.0      0.0      0.0  ...      0.0      0.0      0.0      0.0   \n",
      "128114879      0.0      0.0      0.0  ...      0.0      0.0      0.0      0.0   \n",
      "128114925      0.0      0.0      0.0  ...      0.0      0.0      0.0      0.0   \n",
      "\n",
      "           NA20813  NA20814  NA20815  NA20819  NA20826  NA20828  \n",
      "127614972      0.0      0.0      0.0      0.0      0.0      0.0  \n",
      "127615009      0.0      0.0      0.0      0.0      0.0      0.0  \n",
      "127615018      0.0      0.0      0.0      0.0      0.0      0.0  \n",
      "127615059      0.0      0.0      0.0      0.0      0.0      0.0  \n",
      "127615182      0.0      0.0      0.0      0.0      0.0      0.0  \n",
      "127615240      0.0      0.0      0.0      0.0      0.0      0.0  \n",
      "127615250      0.0      0.0      0.0      1.0      0.0      0.0  \n",
      "127615254      0.0      0.0      0.0      0.0      0.0      0.0  \n",
      "127615314      0.0      0.0      0.0      0.0      0.0      0.0  \n",
      "127615375      0.0      0.0      0.0      0.0      0.0      0.0  \n",
      "127615478      0.0      0.0      0.0      0.0      0.0      0.0  \n",
      "127615508      0.0      0.0      0.0      0.0      0.0      0.0  \n",
      "127615511      0.0      0.0      0.0      0.0      0.0      0.0  \n",
      "127615523      0.0      0.0      0.0      0.0      0.0      0.0  \n",
      "127615573      0.0      0.0      0.0      0.0      0.0      0.0  \n",
      "127615651      0.0      0.0      0.0      0.0      0.0      0.0  \n",
      "127615691      0.0      0.0      0.0      0.0      0.0      0.0  \n",
      "127615710      0.0      0.0      0.0      0.0      0.0      0.0  \n",
      "127615805      0.0      0.0      0.0      0.0      0.0      0.0  \n",
      "127615888      0.0      0.0      0.0      0.0      0.0      0.0  \n",
      "127615898      0.0      0.0      0.0      0.0      0.0      0.0  \n",
      "127615900      0.0      0.0      0.0      0.0      0.0      0.0  \n",
      "127615903      0.0      0.0      0.0      0.0      0.0      0.0  \n",
      "127615904      0.0      0.0      0.0      0.0      0.0      0.0  \n",
      "127615957      0.0      0.0      0.0      0.0      0.0      0.0  \n",
      "127616069      0.0      0.0      0.0      0.0      0.0      0.0  \n",
      "127616074      0.0      0.0      0.0      0.0      0.0      0.0  \n",
      "127616152      0.0      0.0      0.0      0.0      0.0      0.0  \n",
      "127616199      0.0      0.0      0.0      0.0      0.0      0.0  \n",
      "127616210      0.0      0.0      0.0      0.0      0.0      0.0  \n",
      "...            ...      ...      ...      ...      ...      ...  \n",
      "128113704      0.0      0.0      0.0      0.0      0.0      0.0  \n",
      "128113716      0.0      0.0      0.0      0.0      0.0      0.0  \n",
      "128113749      0.0      0.0      1.0      0.0      2.0      0.0  \n",
      "128113795      0.0      0.0      0.0      0.0      0.0      0.0  \n",
      "128113856      0.0      0.0      0.0      0.0      0.0      0.0  \n",
      "128113893      0.0      0.0      0.0      0.0      0.0      0.0  \n",
      "128113911      0.0      0.0      0.0      0.0      0.0      0.0  \n",
      "128113965      0.0      0.0      0.0      0.0      0.0      0.0  \n",
      "128113982      0.0      0.0      0.0      0.0      0.0      0.0  \n",
      "128114011      0.0      0.0      0.0      0.0      0.0      0.0  \n",
      "128114017      0.0      0.0      0.0      0.0      0.0      0.0  \n",
      "128114045      0.0      0.0      0.0      0.0      0.0      0.0  \n",
      "128114057      0.0      0.0      0.0      0.0      0.0      0.0  \n",
      "128114095      0.0      0.0      0.0      0.0      0.0      0.0  \n",
      "128114190      0.0      0.0      0.0      0.0      0.0      0.0  \n",
      "128114210      0.0      0.0      0.0      0.0      0.0      0.0  \n",
      "128114219      0.0      0.0      0.0      0.0      0.0      0.0  \n",
      "128114221      0.0      0.0      0.0      0.0      0.0      0.0  \n",
      "128114264      0.0      0.0      0.0      0.0      0.0      0.0  \n",
      "128114352      0.0      0.0      0.0      0.0      0.0      0.0  \n",
      "128114385      0.0      0.0      0.0      0.0      0.0      0.0  \n",
      "128114436      0.0      0.0      0.0      0.0      0.0      0.0  \n",
      "128114445      0.0      0.0      0.0      0.0      0.0      0.0  \n",
      "128114453      0.0      0.0      0.0      0.0      0.0      0.0  \n",
      "128114596      0.0      0.0      0.0      0.0      0.0      0.0  \n",
      "128114611      0.0      0.0      0.0      0.0      0.0      0.0  \n",
      "128114630      0.0      0.0      0.0      0.0      0.0      0.0  \n",
      "128114770      0.0      0.0      0.0      0.0      0.0      0.0  \n",
      "128114879      0.0      0.0      0.0      0.0      0.0      0.0  \n",
      "128114925      0.0      0.0      0.0      0.0      0.0      0.0  \n",
      "\n",
      "[15415 rows x 445 columns]\n",
      "     HG00096   HG00097   HG00099    HG00100    HG00101    HG00102    HG00103  \\\n",
      "0  15.565095  8.555623  7.770592  14.312952  11.359825  14.856029  16.489331   \n",
      "\n",
      "     HG00105    HG00106    HG00108  ...    NA20809    NA20810    NA20811  \\\n",
      "0  14.221728  15.929636  12.775206  ...  12.490488  16.100831  19.892705   \n",
      "\n",
      "    NA20812   NA20813    NA20814    NA20815    NA20819   NA20826    NA20828  \n",
      "0  19.09588  17.76961  16.320901  17.220134  13.681489  9.383244  13.620608  \n",
      "\n",
      "[1 rows x 445 columns]\n"
     ]
    }
   ],
   "source": [
    "#dosage=pd.DataFrame(np.empty([dos.shape[0],445]), columns=list_p , index=dos['POS'])\n",
    "#dosage[patient]=dos[patient].astype(str).astype(float)\n",
    "print(dosage)\n",
    "print(expression)\n",
    "#print(dos[patient])"
   ]
  },
  {
   "cell_type": "code",
   "execution_count": 5,
   "metadata": {},
   "outputs": [
    {
     "name": "stderr",
     "output_type": "stream",
     "text": [
      "/home/antoine/miniconda3/envs/kipoi-gpu-DeepSEA__predict/lib/python3.7/site-packages/numpy/lib/function_base.py:2530: RuntimeWarning: invalid value encountered in true_divide\n",
      "  c /= stddev[:, None]\n",
      "/home/antoine/miniconda3/envs/kipoi-gpu-DeepSEA__predict/lib/python3.7/site-packages/numpy/lib/function_base.py:2531: RuntimeWarning: divide by zero encountered in true_divide\n",
      "  c /= stddev[None, :]\n",
      "/home/antoine/miniconda3/envs/kipoi-gpu-DeepSEA__predict/lib/python3.7/site-packages/numpy/lib/function_base.py:2531: RuntimeWarning: invalid value encountered in true_divide\n",
      "  c /= stddev[None, :]\n"
     ]
    }
   ],
   "source": [
    "correlations=np.corrcoef(dosage,expression)"
   ]
  },
  {
   "cell_type": "code",
   "execution_count": 6,
   "metadata": {},
   "outputs": [
    {
     "name": "stdout",
     "output_type": "stream",
     "text": [
      "[nan nan nan ... nan nan  1.]\n"
     ]
    }
   ],
   "source": [
    "#print(expression,dosage)\n",
    "print(correlations[-1])"
   ]
  },
  {
   "cell_type": "code",
   "execution_count": 17,
   "metadata": {},
   "outputs": [
    {
     "data": {
      "image/png": "[encoded data removed]",
      "text/plain": [
       "<Figure size 432x288 with 1 Axes>"
      ]
     },
     "metadata": {
      "needs_background": "light"
     },
     "output_type": "display_data"
    }
   ],
   "source": [
    "import matplotlib.pyplot as plt \n",
    "plt.plot(abs(correlations[-1][:-1]),'.')\n",
    "plt.savefig('foo.png')"
   ]
  },
  {
   "cell_type": "code",
   "execution_count": 12,
   "metadata": {},
   "outputs": [],
   "source": [
    "plt.show()"
   ]
  },
  {
   "cell_type": "code",
   "execution_count": 9,
   "metadata": {},
   "outputs": [],
   "source": [
    "#np.corrcoef(np.transpose(expression),dosage)[-1][:-1]"
   ]
  }
 ],
 "metadata": {
  "kernelspec": {
   "display_name": "Python 3",
   "language": "python",
   "name": "python3"
  },
  "language_info": {
   "codemirror_mode": {
    "name": "ipython",
    "version": 3
   },
   "file_extension": ".py",
   "mimetype": "text/x-python",
   "name": "python",
   "nbconvert_exporter": "python",
   "pygments_lexer": "ipython3",
   "version": "3.7.2"
  }
 },
 "nbformat": 4,
 "nbformat_minor": 2
}
